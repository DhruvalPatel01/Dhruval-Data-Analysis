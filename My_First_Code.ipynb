{
 "cells": [
  {
   "cell_type": "markdown",
   "id": "c1a524ea-a4a4-4167-98e7-1f3223f1cea7",
   "metadata": {},
   "source": [
    "### LSE Data Analytics Online Career Accelerator\n",
    "\n",
    "# Practical Activity - Write your first line of code"
   ]
  },
  {
   "cell_type": "markdown",
   "id": "3b5bc37b-fc98-4d1d-897a-5f99b663cb82",
   "metadata": {},
   "source": [
    "**You have been approached by a real estate company, Lindstrom & Thomas, to complete some basic data analysis on their sales for the month of December. They've provided you with an incomplete table, containing the property ID, the sales price, the commission, and the property price for the entire month.**"
   ]
  },
  {
   "cell_type": "code",
   "execution_count": 1,
   "id": "4914a19b-edff-4a5b-a264-4c73e7a42b0f",
   "metadata": {},
   "outputs": [
    {
     "name": "stdout",
     "output_type": "stream",
     "text": [
      "my name is Dhruval\n",
      "the date is 14/04/2025\n"
     ]
    }
   ],
   "source": [
    "# This is my first line of code\n",
    "print(\"my name is Dhruval\")\n",
    "print(\"the date is 14/04/2025\")"
   ]
  },
  {
   "cell_type": "code",
   "execution_count": 2,
   "id": "6247cc89-4d93-44b2-82b2-bad79c1de306",
   "metadata": {},
   "outputs": [],
   "source": [
    "# Write a program to analyse real estate data"
   ]
  },
  {
   "cell_type": "code",
   "execution_count": 9,
   "id": "9dc8cf3a-69c0-4a84-a74d-eef77c3f314a",
   "metadata": {},
   "outputs": [
    {
     "name": "stdout",
     "output_type": "stream",
     "text": [
      "182900\n"
     ]
    }
   ],
   "source": [
    "# Create Variables\n",
    "a = 45000\n",
    "b = 23400\n",
    "c = 67000\n",
    "d = 34600\n",
    "e = 12900\n",
    "\n",
    "# Add all the sales together\n",
    "total_sales = a + b + c + d + e\n",
    "\n",
    "# View the output\n",
    "print(total_sales)"
   ]
  },
  {
   "cell_type": "code",
   "execution_count": 10,
   "id": "df3d6e1f-be91-47a8-9601-7172178e10f2",
   "metadata": {},
   "outputs": [
    {
     "name": "stdout",
     "output_type": "stream",
     "text": [
      "36580.0\n"
     ]
    }
   ],
   "source": [
    "# Average sales for the month december\n",
    "average_sales = total_sales / 5\n",
    "print(average_sales)"
   ]
  },
  {
   "cell_type": "code",
   "execution_count": 11,
   "id": "4c3cda48-ed4c-4775-9063-3bb4031287ee",
   "metadata": {},
   "outputs": [
    {
     "name": "stdout",
     "output_type": "stream",
     "text": [
      "60500\n"
     ]
    }
   ],
   "source": [
    "# Find the sale price for property C\n",
    "property_price_c = (c - 6500)\n",
    "print(property_price_c)"
   ]
  }
 ],
 "metadata": {
  "kernelspec": {
   "display_name": "Python 3 (ipykernel)",
   "language": "python",
   "name": "python3"
  },
  "language_info": {
   "codemirror_mode": {
    "name": "ipython",
    "version": 3
   },
   "file_extension": ".py",
   "mimetype": "text/x-python",
   "name": "python",
   "nbconvert_exporter": "python",
   "pygments_lexer": "ipython3",
   "version": "3.12.7"
  }
 },
 "nbformat": 4,
 "nbformat_minor": 5
}
